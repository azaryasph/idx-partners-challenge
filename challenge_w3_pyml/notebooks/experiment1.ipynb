{
 "cells": [
  {
   "cell_type": "markdown",
   "metadata": {},
   "source": [
    "## Import Libraries"
   ]
  },
  {
   "cell_type": "code",
   "execution_count": 4,
   "metadata": {},
   "outputs": [],
   "source": [
    "import pandas as pd\n",
    "import numpy as np\n",
    "import matplotlib.pyplot as plt\n",
    "import seaborn as sns\n",
    "import warnings\n",
    "from sklearn.model_selection import train_test_split\n",
    "from scipy.stats import chi2_contingency\n",
    "from sklearn.preprocessing import StandardScaler\n",
    "from imblearn.over_sampling import SMOTE\n",
    "from sklearn.linear_model import LogisticRegression\n",
    "from sklearn.metrics import accuracy_score, precision_score, recall_score, f1_score, roc_auc_score, confusion_matrix\n",
    "from sklearn.model_selection import RandomizedSearchCV\n",
    "\n",
    "\n",
    "warnings.filterwarnings('ignore')"
   ]
  },
  {
   "cell_type": "markdown",
   "metadata": {},
   "source": [
    "## Load data & Data Understanding"
   ]
  },
  {
   "cell_type": "code",
   "execution_count": 5,
   "metadata": {},
   "outputs": [
    {
     "name": "stdout",
     "output_type": "stream",
     "text": [
      "Data has 32950 rows and 16 columns\n",
      "\n",
      "Data Sample:\n"
     ]
    },
    {
     "data": {
      "text/html": [
       "<div>\n",
       "<style scoped>\n",
       "    .dataframe tbody tr th:only-of-type {\n",
       "        vertical-align: middle;\n",
       "    }\n",
       "\n",
       "    .dataframe tbody tr th {\n",
       "        vertical-align: top;\n",
       "    }\n",
       "\n",
       "    .dataframe thead th {\n",
       "        text-align: right;\n",
       "    }\n",
       "</style>\n",
       "<table border=\"1\" class=\"dataframe\">\n",
       "  <thead>\n",
       "    <tr style=\"text-align: right;\">\n",
       "      <th></th>\n",
       "      <th>age</th>\n",
       "      <th>job</th>\n",
       "      <th>marital</th>\n",
       "      <th>education</th>\n",
       "      <th>default</th>\n",
       "      <th>housing</th>\n",
       "      <th>loan</th>\n",
       "      <th>contact</th>\n",
       "      <th>month</th>\n",
       "      <th>day_of_week</th>\n",
       "      <th>duration</th>\n",
       "      <th>campaign</th>\n",
       "      <th>pdays</th>\n",
       "      <th>previous</th>\n",
       "      <th>poutcome</th>\n",
       "      <th>y</th>\n",
       "    </tr>\n",
       "  </thead>\n",
       "  <tbody>\n",
       "    <tr>\n",
       "      <th>13385</th>\n",
       "      <td>34</td>\n",
       "      <td>admin.</td>\n",
       "      <td>married</td>\n",
       "      <td>high.school</td>\n",
       "      <td>no</td>\n",
       "      <td>no</td>\n",
       "      <td>no</td>\n",
       "      <td>telephone</td>\n",
       "      <td>jun</td>\n",
       "      <td>wed</td>\n",
       "      <td>638</td>\n",
       "      <td>1</td>\n",
       "      <td>999</td>\n",
       "      <td>0</td>\n",
       "      <td>nonexistent</td>\n",
       "      <td>yes</td>\n",
       "    </tr>\n",
       "    <tr>\n",
       "      <th>11626</th>\n",
       "      <td>33</td>\n",
       "      <td>blue-collar</td>\n",
       "      <td>single</td>\n",
       "      <td>basic.4y</td>\n",
       "      <td>no</td>\n",
       "      <td>no</td>\n",
       "      <td>no</td>\n",
       "      <td>telephone</td>\n",
       "      <td>jun</td>\n",
       "      <td>tue</td>\n",
       "      <td>147</td>\n",
       "      <td>1</td>\n",
       "      <td>999</td>\n",
       "      <td>0</td>\n",
       "      <td>nonexistent</td>\n",
       "      <td>no</td>\n",
       "    </tr>\n",
       "    <tr>\n",
       "      <th>3952</th>\n",
       "      <td>33</td>\n",
       "      <td>technician</td>\n",
       "      <td>married</td>\n",
       "      <td>professional.course</td>\n",
       "      <td>no</td>\n",
       "      <td>yes</td>\n",
       "      <td>no</td>\n",
       "      <td>telephone</td>\n",
       "      <td>oct</td>\n",
       "      <td>wed</td>\n",
       "      <td>171</td>\n",
       "      <td>1</td>\n",
       "      <td>999</td>\n",
       "      <td>0</td>\n",
       "      <td>nonexistent</td>\n",
       "      <td>yes</td>\n",
       "    </tr>\n",
       "  </tbody>\n",
       "</table>\n",
       "</div>"
      ],
      "text/plain": [
       "       age          job  marital            education default housing loan  \\\n",
       "13385   34       admin.  married          high.school      no      no   no   \n",
       "11626   33  blue-collar   single             basic.4y      no      no   no   \n",
       "3952    33   technician  married  professional.course      no     yes   no   \n",
       "\n",
       "         contact month day_of_week  duration  campaign  pdays  previous  \\\n",
       "13385  telephone   jun         wed       638         1    999         0   \n",
       "11626  telephone   jun         tue       147         1    999         0   \n",
       "3952   telephone   oct         wed       171         1    999         0   \n",
       "\n",
       "          poutcome    y  \n",
       "13385  nonexistent  yes  \n",
       "11626  nonexistent   no  \n",
       "3952   nonexistent  yes  "
      ]
     },
     "metadata": {},
     "output_type": "display_data"
    },
    {
     "name": "stdout",
     "output_type": "stream",
     "text": [
      "\n",
      "Missing Values: 0\n"
     ]
    }
   ],
   "source": [
    "df = pd.read_csv('../data/new_train.csv')\n",
    "\n",
    "print(f'Data has {df.shape[0]} rows and {df.shape[1]} columns')\n",
    "print('\\nData Sample:')\n",
    "display(df.sample(3))\n",
    "\n",
    "missing = df.isna().sum().sum()\n",
    "print('\\nMissing Values:', missing)"
   ]
  },
  {
   "cell_type": "code",
   "execution_count": 6,
   "metadata": {},
   "outputs": [],
   "source": [
    "# change the target column name from y to term_deposit\n",
    "df['term_deposit'] = df['y']\n",
    "df.drop('y', axis=1, inplace=True)"
   ]
  },
  {
   "cell_type": "markdown",
   "metadata": {},
   "source": [
    "### Data Preprocessing"
   ]
  },
  {
   "cell_type": "markdown",
   "metadata": {},
   "source": [
    "#### Feature Engineering"
   ]
  },
  {
   "cell_type": "code",
   "execution_count": 7,
   "metadata": {},
   "outputs": [],
   "source": [
    "# Create a new column 'recently_contacted' based on the 'pdays' column. If 'pdays' is 999, set 'recently_contacted' to 0, else set it to 1.\n",
    "df['recently_contacted'] = df['pdays'].apply(lambda x: 0 if x == 999 else 1)\n",
    "\n",
    "# Drop the 'pdays' column as it's no longer needed\n",
    "df.drop('pdays', axis=1, inplace=True)\n",
    "\n",
    "# Create a new column 'previously_contacted' based on the 'previous' column. If 'previous' is greater than 0, set 'previously_contacted' to 'contacted', else set it to 'not contacted'.\n",
    "df['previously_contacted'] = df['previous'].apply(lambda x: 'contacted' if x > 0 else 'not contacted')\n",
    "\n",
    "# Drop the 'previous' column as it's no longer needed\n",
    "df.drop('previous', axis=1, inplace=True)\n",
    "\n",
    "# Create a dictionary to map certain job titles to broader categories\n",
    "mapjob = {\n",
    "    'student': 'unemployed',  \n",
    "    'retired': 'unemployed',  \n",
    "    'unknown': 'unemployed',  \n",
    "    'entrepreneur': 'self-employed',  \n",
    "    'housemaid': 'services', \n",
    "}\n",
    "\n",
    "# Replace the job titles in the 'job' column based on the mapping dictionary\n",
    "df['job'] = df['job'].replace(mapjob)\n",
    "\n",
    "# Create a dictionary to map certain education levels to broader categories\n",
    "mapedu = {\n",
    "    'basic.9y': 'basic education',  \n",
    "    'basic.6y': 'basic education',  \n",
    "    'basic.4y': 'basic education', \n",
    "    'unknown': 'other',  \n",
    "    'illiterate': 'other'  \n",
    "}\n",
    "\n",
    "# Replace the education levels in the 'education' column based on the mapping dictionary\n",
    "df['education'] = df['education'].replace(mapedu)\n",
    "\n",
    "# List of columns where 'unknown' values are to be removed\n",
    "unknown_col = ['marital', 'housing', 'loan']\n",
    "\n",
    "# Loop through the columns in the list and remove rows where the column value is 'unknown'\n",
    "for col in unknown_col:\n",
    "    df = df[df[col] != 'unknown']\n",
    "    \n",
    "# Drop the 'default' column as it's no longer needed\n",
    "df = df.drop(columns='default', axis=1)"
   ]
  },
  {
   "cell_type": "markdown",
   "metadata": {},
   "source": [
    "#### Train Test Split"
   ]
  },
  {
   "cell_type": "code",
   "execution_count": 8,
   "metadata": {},
   "outputs": [
    {
     "name": "stdout",
     "output_type": "stream",
     "text": [
      "Training set has 24067 rows and 14 columns\n",
      "Test set has 8023 rows and 14 columns\n"
     ]
    }
   ],
   "source": [
    "# Drop the 'term_deposit' column from the dataframe and assign the remaining columns to X. This will be our feature set.\n",
    "X = df.drop(columns='term_deposit', axis=1)\n",
    "\n",
    "# Assign the 'term_deposit' column to y. This will be our target variable.\n",
    "y = df['term_deposit']\n",
    "\n",
    "# Split the dataset into training and test sets. 75% of the data will be used for training and 25% for testing. The 'random_state' parameter ensures reproducibility.\n",
    "X_train, X_test, y_train, y_test = train_test_split(X, y, test_size=0.25, random_state=1103)\n",
    "\n",
    "# Print the number of rows and columns in the training set\n",
    "print(f'Training set has {X_train.shape[0]} rows and {X_train.shape[1]} columns')\n",
    "\n",
    "# Print the number of rows and columns in the test set\n",
    "print(f'Test set has {X_test.shape[0]} rows and {X_test.shape[1]} columns')"
   ]
  },
  {
   "cell_type": "markdown",
   "metadata": {},
   "source": [
    "#### Handling Outlier"
   ]
  },
  {
   "cell_type": "code",
   "execution_count": 9,
   "metadata": {},
   "outputs": [],
   "source": [
    "# Define a function to handle outliers in a DataFrame using the capping method\n",
    "def cap_outliers(data, cols):\n",
    "    \"\"\"\n",
    "    This function caps the outliers in the specified columns of a DataFrame.\n",
    "    \n",
    "    Parameters:\n",
    "    data (DataFrame): The DataFrame to process.\n",
    "    cols (list): A list of column names to cap outliers in.\n",
    "    \n",
    "    Returns:\n",
    "    DataFrame: The processed DataFrame with outliers capped.\n",
    "    \"\"\"\n",
    "    # Loop over each specified column\n",
    "    for col in cols:\n",
    "        # Calculate the first quartile (Q1)\n",
    "        Q1 = data[col].quantile(0.25)\n",
    "        # Calculate the third quartile (Q3)\n",
    "        Q3 = data[col].quantile(0.75)\n",
    "        # Calculate the Interquartile Range (IQR)\n",
    "        IQR = Q3 - Q1\n",
    "\n",
    "        # Calculate the lower bound for outliers\n",
    "        lower_bound = Q1 - 1.5 * IQR\n",
    "        # Calculate the upper bound for outliers\n",
    "        upper_bound = Q3 + 1.5 * IQR\n",
    "\n",
    "        # Cap the outliers in the column by replacing them with the lower or upper bound\n",
    "        data[col] = data[col].clip(lower_bound, upper_bound)\n",
    "    \n",
    "    # Return the processed DataFrame\n",
    "    return data\n",
    "\n",
    "# define columns to cap outliers in\n",
    "outliers = X_train[['age', 'duration', 'campaign']]\n",
    "\n",
    "# Apply the cap_outliers function to the DataFrame 'df', capping outliers in all numeric columns\n",
    "X_capped = cap_outliers(X_train, outliers.columns)"
   ]
  },
  {
   "cell_type": "markdown",
   "metadata": {},
   "source": [
    "##### Feature Selection"
   ]
  },
  {
   "cell_type": "code",
   "execution_count": 10,
   "metadata": {},
   "outputs": [
    {
     "data": {
      "text/html": [
       "<div>\n",
       "<style scoped>\n",
       "    .dataframe tbody tr th:only-of-type {\n",
       "        vertical-align: middle;\n",
       "    }\n",
       "\n",
       "    .dataframe tbody tr th {\n",
       "        vertical-align: top;\n",
       "    }\n",
       "\n",
       "    .dataframe thead th {\n",
       "        text-align: right;\n",
       "    }\n",
       "</style>\n",
       "<table border=\"1\" class=\"dataframe\">\n",
       "  <thead>\n",
       "    <tr style=\"text-align: right;\">\n",
       "      <th></th>\n",
       "      <th>feature</th>\n",
       "      <th>p-value</th>\n",
       "    </tr>\n",
       "  </thead>\n",
       "  <tbody>\n",
       "    <tr>\n",
       "      <th>6</th>\n",
       "      <td>month</td>\n",
       "      <td>0.000000e+00</td>\n",
       "    </tr>\n",
       "    <tr>\n",
       "      <th>8</th>\n",
       "      <td>poutcome</td>\n",
       "      <td>0.000000e+00</td>\n",
       "    </tr>\n",
       "    <tr>\n",
       "      <th>9</th>\n",
       "      <td>previously_contacted</td>\n",
       "      <td>2.341642e-205</td>\n",
       "    </tr>\n",
       "    <tr>\n",
       "      <th>5</th>\n",
       "      <td>contact</td>\n",
       "      <td>6.686268e-114</td>\n",
       "    </tr>\n",
       "    <tr>\n",
       "      <th>0</th>\n",
       "      <td>job</td>\n",
       "      <td>8.324080e-95</td>\n",
       "    </tr>\n",
       "    <tr>\n",
       "      <th>2</th>\n",
       "      <td>education</td>\n",
       "      <td>6.042295e-23</td>\n",
       "    </tr>\n",
       "    <tr>\n",
       "      <th>1</th>\n",
       "      <td>marital</td>\n",
       "      <td>3.076782e-17</td>\n",
       "    </tr>\n",
       "    <tr>\n",
       "      <th>7</th>\n",
       "      <td>day_of_week</td>\n",
       "      <td>2.256391e-02</td>\n",
       "    </tr>\n",
       "    <tr>\n",
       "      <th>3</th>\n",
       "      <td>housing</td>\n",
       "      <td>9.757824e-02</td>\n",
       "    </tr>\n",
       "    <tr>\n",
       "      <th>4</th>\n",
       "      <td>loan</td>\n",
       "      <td>7.861979e-01</td>\n",
       "    </tr>\n",
       "  </tbody>\n",
       "</table>\n",
       "</div>"
      ],
      "text/plain": [
       "                feature        p-value\n",
       "6                 month   0.000000e+00\n",
       "8              poutcome   0.000000e+00\n",
       "9  previously_contacted  2.341642e-205\n",
       "5               contact  6.686268e-114\n",
       "0                   job   8.324080e-95\n",
       "2             education   6.042295e-23\n",
       "1               marital   3.076782e-17\n",
       "7           day_of_week   2.256391e-02\n",
       "3               housing   9.757824e-02\n",
       "4                  loan   7.861979e-01"
      ]
     },
     "metadata": {},
     "output_type": "display_data"
    },
    {
     "data": {
      "text/html": [
       "<div>\n",
       "<style scoped>\n",
       "    .dataframe tbody tr th:only-of-type {\n",
       "        vertical-align: middle;\n",
       "    }\n",
       "\n",
       "    .dataframe tbody tr th {\n",
       "        vertical-align: top;\n",
       "    }\n",
       "\n",
       "    .dataframe thead th {\n",
       "        text-align: right;\n",
       "    }\n",
       "</style>\n",
       "<table border=\"1\" class=\"dataframe\">\n",
       "  <thead>\n",
       "    <tr style=\"text-align: right;\">\n",
       "      <th></th>\n",
       "      <th>feature</th>\n",
       "      <th>p-value</th>\n",
       "    </tr>\n",
       "  </thead>\n",
       "  <tbody>\n",
       "    <tr>\n",
       "      <th>8</th>\n",
       "      <td>poutcome</td>\n",
       "      <td>7.475909e-170</td>\n",
       "    </tr>\n",
       "    <tr>\n",
       "      <th>6</th>\n",
       "      <td>month</td>\n",
       "      <td>1.344512e-105</td>\n",
       "    </tr>\n",
       "    <tr>\n",
       "      <th>9</th>\n",
       "      <td>previously_contacted</td>\n",
       "      <td>8.868941e-58</td>\n",
       "    </tr>\n",
       "    <tr>\n",
       "      <th>0</th>\n",
       "      <td>job</td>\n",
       "      <td>1.072715e-29</td>\n",
       "    </tr>\n",
       "    <tr>\n",
       "      <th>5</th>\n",
       "      <td>contact</td>\n",
       "      <td>3.773153e-29</td>\n",
       "    </tr>\n",
       "    <tr>\n",
       "      <th>2</th>\n",
       "      <td>education</td>\n",
       "      <td>8.543321e-09</td>\n",
       "    </tr>\n",
       "    <tr>\n",
       "      <th>1</th>\n",
       "      <td>marital</td>\n",
       "      <td>5.969303e-07</td>\n",
       "    </tr>\n",
       "    <tr>\n",
       "      <th>3</th>\n",
       "      <td>housing</td>\n",
       "      <td>5.242323e-01</td>\n",
       "    </tr>\n",
       "    <tr>\n",
       "      <th>7</th>\n",
       "      <td>day_of_week</td>\n",
       "      <td>6.295824e-01</td>\n",
       "    </tr>\n",
       "    <tr>\n",
       "      <th>4</th>\n",
       "      <td>loan</td>\n",
       "      <td>7.055068e-01</td>\n",
       "    </tr>\n",
       "  </tbody>\n",
       "</table>\n",
       "</div>"
      ],
      "text/plain": [
       "                feature        p-value\n",
       "8              poutcome  7.475909e-170\n",
       "6                 month  1.344512e-105\n",
       "9  previously_contacted   8.868941e-58\n",
       "0                   job   1.072715e-29\n",
       "5               contact   3.773153e-29\n",
       "2             education   8.543321e-09\n",
       "1               marital   5.969303e-07\n",
       "3               housing   5.242323e-01\n",
       "7           day_of_week   6.295824e-01\n",
       "4                  loan   7.055068e-01"
      ]
     },
     "metadata": {},
     "output_type": "display_data"
    }
   ],
   "source": [
    "def chi_square_test(df, target, categorical_features):\n",
    "    \"\"\"\n",
    "    This function performs a Chi-Square test of independence for each categorical feature \n",
    "    in a DataFrame with respect to a categorical target.\n",
    "    \n",
    "    Parameters:\n",
    "    df (DataFrame): The DataFrame to process.\n",
    "    target (str): The name of the target column.\n",
    "    categorical_features (list): A list of the names of the categorical feature columns.\n",
    "    \n",
    "    Returns:\n",
    "    DataFrame: A DataFrame that contains the p-value of the Chi-Square test for each feature, \n",
    "               sorted in ascending order.\n",
    "    \"\"\"\n",
    "    # Create an empty DataFrame to store the results\n",
    "    results = pd.DataFrame(columns=['feature', 'p-value'])\n",
    "\n",
    "    # Perform the test for each categorical feature\n",
    "    for i, feature in enumerate(categorical_features):\n",
    "        # Create a contingency table\n",
    "        contingency_table = pd.crosstab(df[feature], df[target])\n",
    "\n",
    "        # Perform the Chi-Square test\n",
    "        _, p, _, _ = chi2_contingency(contingency_table)\n",
    "\n",
    "        # Add the results to the results DataFrame using loc\n",
    "        results.loc[i] = [feature, p]\n",
    "\n",
    "    # Return the results sorted by p-value\n",
    "    return results.sort_values('p-value')\n",
    "\n",
    "\n",
    "chi_train = pd.concat([X_capped, y_train], axis=1)\n",
    "\n",
    "chi_test = pd.concat([X_test, y_test], axis=1)\n",
    "\n",
    "Xcat = X_capped.select_dtypes(include='object').columns.tolist()\n",
    "\n",
    "# Perform the Chi-Square test for the categorical features in the training set\n",
    "chisq_train = chi_square_test(chi_train, 'term_deposit', Xcat)\n",
    "\n",
    "chisq_test = chi_square_test(chi_test, 'term_deposit', Xcat)\n",
    "\n",
    "display(chisq_train)\n",
    "display(chisq_test)"
   ]
  },
  {
   "cell_type": "code",
   "execution_count": 11,
   "metadata": {},
   "outputs": [
    {
     "name": "stdout",
     "output_type": "stream",
     "text": [
      "Selected Features:\n",
      "['month' 'poutcome' 'previously_contacted' 'contact' 'job' 'education'\n",
      " 'marital' 'day_of_week']\n",
      "['poutcome' 'month' 'previously_contacted' 'job' 'contact' 'education'\n",
      " 'marital']\n"
     ]
    }
   ],
   "source": [
    "# Set a significance level\n",
    "alpha = 0.05\n",
    "\n",
    "# Select the features where p-value is less than the significance level\n",
    "selected_features = chisq_train[chisq_train['p-value'] < alpha]['feature'].values\n",
    "\n",
    "# Select the features where p-value is less than the significance level\n",
    "selected_features_test = chisq_test[chisq_test['p-value'] < alpha]['feature'].values\n",
    "\n",
    "# Filter the training and test sets to include only the selected features\n",
    "X_train_selected = X_capped[selected_features]\n",
    "\n",
    "X_test_selected = X_test[selected_features]\n",
    "\n",
    "# Display the selected features\n",
    "print('Selected Features:')\n",
    "print(selected_features)\n",
    "print(selected_features_test)"
   ]
  },
  {
   "cell_type": "markdown",
   "metadata": {},
   "source": [
    "##### Encoding Categorical Data"
   ]
  },
  {
   "cell_type": "code",
   "execution_count": 12,
   "metadata": {},
   "outputs": [],
   "source": [
    "# Create a dictionary to map education levels to numerical values\n",
    "encode_edu = {\n",
    "    'other': 0,\n",
    "    'basic education': 1,\n",
    "    'high.school': 2,\n",
    "    'professional.course': 3,\n",
    "    'university.degree': 4\n",
    "}\n",
    "\n",
    "# Replace the education levels in the 'education' column of the training set with the corresponding numerical values\n",
    "X_train_selected['education'] = X_train_selected['education'].map(encode_edu)\n",
    "\n",
    "# Replace the education levels in the 'education' column of the test set with the corresponding numerical values\n",
    "X_test_selected['education'] = X_test_selected['education'].map(encode_edu)\n",
    "\n",
    "# Convert categorical variables in the training set into dummy/indicator variables. The 'drop_first' parameter is set to True to avoid the dummy variable trap.\n",
    "Xtr_encoded = pd.get_dummies(X_train_selected, drop_first=True).astype('int64')\n",
    "\n",
    "# Convert categorical variables in the test set into dummy/indicator variables. The 'drop_first' parameter is set to True to avoid the dummy variable trap.\n",
    "Xts_encoded = pd.get_dummies(X_test_selected, drop_first=True).astype('int64')\n",
    "\n",
    "# Replace the 'no' and 'yes' values in the target variable of the training set with 0 and 1 respectively\n",
    "y_train = y_train.map({'no': 0, 'yes': 1})\n",
    "\n",
    "# Replace the 'no' and 'yes' values in the target variable of the test set with 0 and 1 respectively\n",
    "y_test = y_test.map({'no': 0, 'yes': 1})"
   ]
  },
  {
   "cell_type": "markdown",
   "metadata": {},
   "source": [
    "##### Feature Scaling"
   ]
  },
  {
   "cell_type": "code",
   "execution_count": 13,
   "metadata": {},
   "outputs": [],
   "source": [
    "# Create a StandardScaler instance\n",
    "scaler = StandardScaler()\n",
    "\n",
    "# Fit the scaler to the data and transform the data\n",
    "Xtr_scaled = scaler.fit_transform(Xtr_encoded)\n",
    "\n",
    "Xtr_scaled = pd.DataFrame(Xtr_scaled, columns=Xtr_encoded.columns)\n",
    "\n",
    "Xts_scaled = scaler.transform(Xts_encoded)"
   ]
  },
  {
   "cell_type": "markdown",
   "metadata": {},
   "source": [
    "#### Handle Imbalance Data"
   ]
  },
  {
   "cell_type": "code",
   "execution_count": 14,
   "metadata": {},
   "outputs": [
    {
     "name": "stdout",
     "output_type": "stream",
     "text": [
      "(24067, 26)\n",
      "(24067,)\n"
     ]
    }
   ],
   "source": [
    "print(Xtr_scaled.shape)\n",
    "print(y_train.shape)"
   ]
  },
  {
   "cell_type": "code",
   "execution_count": 15,
   "metadata": {},
   "outputs": [],
   "source": [
    "# Create a SMOTE instance\n",
    "smote = SMOTE(random_state=42)\n",
    "\n",
    "# Fit the SMOTE instance to the data and resample the data\n",
    "Xtr_resampled, ytr_resampled = smote.fit_resample(Xtr_scaled, y_train)"
   ]
  },
  {
   "cell_type": "markdown",
   "metadata": {},
   "source": [
    "### Modelling"
   ]
  },
  {
   "cell_type": "markdown",
   "metadata": {},
   "source": [
    "#### Define function to evaluate the model"
   ]
  },
  {
   "cell_type": "code",
   "execution_count": 16,
   "metadata": {},
   "outputs": [],
   "source": [
    "def eval_model(model, X_train, y_train, X_test, y_test, thresshold):\n",
    "    \n",
    "    model.fit(X_train, y_train)\n",
    "\n",
    "    pred_train = model.predict_proba(X_train)[:, 1]\n",
    "    pred_test = model.predict_proba(X_test)[:, 1]\n",
    "\n",
    "    # print auc score with roc auc score\n",
    "    print('Train AUC:', roc_auc_score(y_train, pred_train))\n",
    "    print('Test AUC:', roc_auc_score(y_test, pred_test))\n",
    "\n",
    "    print('Train Recall:', recall_score(y_train, pred_train > thresshold))\n",
    "    print('Test Recall:', recall_score(y_test, pred_test > thresshold))\n",
    "\n",
    "    print('Train Precision:', precision_score(y_train, pred_train > thresshold))\n",
    "    print('Test Precision:', precision_score(y_test, pred_test > thresshold))"
   ]
  },
  {
   "cell_type": "markdown",
   "metadata": {},
   "source": [
    "#### Train and Evaluate Model"
   ]
  },
  {
   "cell_type": "code",
   "execution_count": 17,
   "metadata": {},
   "outputs": [
    {
     "name": "stdout",
     "output_type": "stream",
     "text": [
      "Train AUC: 0.7637927725622893\n",
      "Test AUC: 0.736767516730679\n",
      "Train Recall: 0.4599934300061007\n",
      "Test Recall: 0.451348182883939\n",
      "Train Precision: 0.8285013946411969\n",
      "Test Precision: 0.3591417910447761\n"
     ]
    }
   ],
   "source": [
    "# Create a Logistic Regression model\n",
    "lr = LogisticRegression(random_state=1103)\n",
    "\n",
    "# evaluate the model\n",
    "eval_model(lr, Xtr_resampled, ytr_resampled, Xts_scaled, y_test, 0.6)"
   ]
  },
  {
   "cell_type": "code",
   "execution_count": 18,
   "metadata": {},
   "outputs": [
    {
     "data": {
      "image/png": "[encoded data removed]",
      "text/plain": [
       "<Figure size 1000x700 with 2 Axes>"
      ]
     },
     "metadata": {},
     "output_type": "display_data"
    }
   ],
   "source": [
    "pred_test = lr.predict_proba(Xts_scaled)[:, 1]\n",
    "\n",
    "# Compute confusion matrix\n",
    "cnf_matrix = confusion_matrix(y_test, pred_test > 0.42)\n",
    "\n",
    "# Calculate the percentage of each category\n",
    "percentage_matrix = cnf_matrix / cnf_matrix.sum()\n",
    "\n",
    "# Define the labels\n",
    "labels = np.array([['True Negative', 'False Positive'],\n",
    "                   ['False Negative', 'True Positive']])\n",
    "\n",
    "# Create labels with both count and percentage\n",
    "new_labels = (np.asarray([\"{0}\\n{1} ({2:.2%})\".format(label, value, percentage)\n",
    "                          for label, value, percentage in zip(labels.flatten(), cnf_matrix.flatten(), percentage_matrix.flatten())])\n",
    "             ).reshape(2,2)\n",
    "\n",
    "# Plot confusion matrix using a heatmap\n",
    "fig = plt.figure(figsize=(10,7))\n",
    "fig.patch.set_facecolor('white')  # Change figure color\n",
    "\n",
    "sns.heatmap(cnf_matrix, annot=new_labels, fmt='', cmap='viridis', annot_kws={\"weight\": \"bold\"})\n",
    "# plt.title('Confusion Matrix LightGBM Model', fontsize=13, fontweight='bold')\n",
    "plt.xlabel('Predicted')\n",
    "plt.ylabel('Actual')\n",
    "\n",
    "# Change label colors\n",
    "plt.gca().xaxis.label.set_color('black')\n",
    "plt.gca().yaxis.label.set_color('black')\n",
    "\n",
    "plt.xticks(ticks=[0.5, 1.5], labels=['Not Take', 'Take'], fontsize=16)\n",
    "plt.yticks(ticks=[0.5, 1.5], labels=['Not Take', 'Take'], fontsize=16)\n",
    "plt.show()"
   ]
  },
  {
   "cell_type": "markdown",
   "metadata": {},
   "source": [
    "#### Tune Selected Model Hyperparameter for Enhance Model Performance"
   ]
  },
  {
   "cell_type": "code",
   "execution_count": 19,
   "metadata": {},
   "outputs": [
    {
     "name": "stdout",
     "output_type": "stream",
     "text": [
      "{'solver': 'saga', 'penalty': 'l1', 'max_iter': 700, 'C': 0.23357214690901212}\n"
     ]
    }
   ],
   "source": [
    "# logistic regression hyperparameter tuning\n",
    "\n",
    "# Define the hyperparameters to search\n",
    "hyperparameters = {\n",
    "    'C': np.logspace(-4, 4, 20),\n",
    "    'penalty': ['l1', 'l2'],\n",
    "    'solver': ['liblinear', 'saga'],\n",
    "    'max_iter': np.arange(100, 1000, 100),\n",
    "}\n",
    "\n",
    "# Create a RandomizedSearchCV object\n",
    "lr_random_search = RandomizedSearchCV(lr, hyperparameters, n_iter=50, cv=5, scoring='roc_auc', n_jobs=-1, random_state=1103)\n",
    "\n",
    "# Fit the RandomizedSearchCV object to the data\n",
    "lr_random_search.fit(Xtr_resampled, ytr_resampled)\n",
    "\n",
    "# Get the best hyperparameters from the search\n",
    "best_params = lr_random_search.best_params_\n",
    "print(best_params)"
   ]
  },
  {
   "cell_type": "code",
   "execution_count": 20,
   "metadata": {},
   "outputs": [
    {
     "name": "stdout",
     "output_type": "stream",
     "text": [
      "Train AUC: 0.7638000709405006\n",
      "Test AUC: 0.7368173858446929\n",
      "Train Recall: 0.6698578065606082\n",
      "Test Recall: 0.6400937866354045\n",
      "Train Precision: 0.6895319066711753\n",
      "Test Precision: 0.20457100037467216\n"
     ]
    }
   ],
   "source": [
    "# Create a Logistic Regression model with the best hyperparameters\n",
    "lr_best = LogisticRegression(**best_params, random_state=1103)\n",
    "\n",
    "# evaluate the model\n",
    "eval_model(lr_best, Xtr_resampled, ytr_resampled, Xts_scaled, y_test, 0.45)"
   ]
  },
  {
   "cell_type": "code",
   "execution_count": 21,
   "metadata": {},
   "outputs": [
    {
     "data": {
      "image/png": "[encoded data removed]",
      "text/plain": [
       "<Figure size 1000x600 with 1 Axes>"
      ]
     },
     "metadata": {},
     "output_type": "display_data"
    }
   ],
   "source": [
    "# Assume that 'model' is your fitted Logistic Regression model\n",
    "feature_importance = lr_best.coef_[0]\n",
    "\n",
    "# Create a DataFrame for easier visualization\n",
    "feature_importance_df = pd.DataFrame({'feature': Xtr_resampled.columns, 'importance': feature_importance})\n",
    "\n",
    "# Sort the DataFrame by importance\n",
    "feature_importance_df = feature_importance_df.sort_values('importance', ascending=False)\n",
    "\n",
    "# list of x locations for plotting\n",
    "x_values = list(range(len(feature_importance_df.importance)))\n",
    "\n",
    "# set the size of the plot\n",
    "plt.figure(figsize=(10, 6))\n",
    "\n",
    "# Make a bar chart\n",
    "plt.bar(x_values, feature_importance_df.importance, orientation = 'vertical')\n",
    "\n",
    "# Tick labels for x axis\n",
    "plt.xticks(x_values, feature_importance_df.feature, rotation='vertical')\n",
    "\n",
    "# Axis labels and title\n",
    "plt.ylabel('Importance'); plt.xlabel('Variable'); plt.title('Variable Importances');\n",
    "\n",
    "# Show the plot\n",
    "plt.show()"
   ]
  }
 ],
 "metadata": {
  "kernelspec": {
   "display_name": "Python 3",
   "language": "python",
   "name": "python3"
  },
  "language_info": {
   "codemirror_mode": {
    "name": "ipython",
    "version": 3
   },
   "file_extension": ".py",
   "mimetype": "text/x-python",
   "name": "python",
   "nbconvert_exporter": "python",
   "pygments_lexer": "ipython3",
   "version": "3.11.8"
  }
 },
 "nbformat": 4,
 "nbformat_minor": 2
}
